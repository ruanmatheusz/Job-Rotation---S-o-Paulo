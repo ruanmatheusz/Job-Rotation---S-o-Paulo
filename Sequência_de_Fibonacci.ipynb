{
  "nbformat": 4,
  "nbformat_minor": 0,
  "metadata": {
    "colab": {
      "provenance": [],
      "authorship_tag": "ABX9TyOdvYeBVVCih7Llcze+xWyH",
      "include_colab_link": true
    },
    "kernelspec": {
      "name": "python3",
      "display_name": "Python 3"
    },
    "language_info": {
      "name": "python"
    }
  },
  "cells": [
    {
      "cell_type": "markdown",
      "metadata": {
        "id": "view-in-github",
        "colab_type": "text"
      },
      "source": [
        "<a href=\"https://colab.research.google.com/github/ruanmatheusz/Job-Rotation---S-o-Paulo/blob/master/Sequ%C3%AAncia_de_Fibonacci.ipynb\" target=\"_parent\"><img src=\"https://colab.research.google.com/assets/colab-badge.svg\" alt=\"Open In Colab\"/></a>"
      ]
    },
    {
      "cell_type": "code",
      "execution_count": 92,
      "metadata": {
        "colab": {
          "base_uri": "https://localhost:8080/"
        },
        "id": "VnXkSjfV_sbq",
        "outputId": "cede3e0d-bc82-4053-9025-048fcb8a660a"
      },
      "outputs": [
        {
          "output_type": "stream",
          "name": "stdout",
          "text": [
            "Insira o número a ser verificado: 13\n",
            "O número faz parte da sequência de Ferbonacci\n"
          ]
        }
      ],
      "source": [
        "numero = int(input('Insira o número a ser verificado: '))\n",
        "n1 = 0\n",
        "n2 = 1\n",
        "n3 = 0\n",
        "listas = []\n",
        "verificador_final = False\n",
        "if numero == 1 or numero == 2:\n",
        "  print('O número faz parte da sequência de Ferbonacci = 1' )\n",
        "if numero <= 0:\n",
        "  print('Insira um numero maior que 0')\n",
        "else:\n",
        "    while numero > n3:\n",
        "      n3 = n1 + n2\n",
        "      n1 = n2\n",
        "      n2 = n3\n",
        "      listas.append(n3)\n",
        "    for lista in listas:\n",
        "        if lista == numero:\n",
        "          print('O número faz parte da sequência de Ferbonacci')\n",
        "          verificador_final = True\n",
        "if verificador_final != True:\n",
        "  print('O número não faz parte da sequência de Ferbonacci')\n",
        "        \n",
        "    \n",
        "          \n"
      ]
    }
  ]
}