{
  "nbformat": 4,
  "nbformat_minor": 0,
  "metadata": {
    "colab": {
      "provenance": [],
      "authorship_tag": "ABX9TyMDHwvqkzOFkfr86yCoyVjO",
      "include_colab_link": true
    },
    "kernelspec": {
      "name": "python3",
      "display_name": "Python 3"
    },
    "language_info": {
      "name": "python"
    }
  },
  "cells": [
    {
      "cell_type": "markdown",
      "metadata": {
        "id": "view-in-github",
        "colab_type": "text"
      },
      "source": [
        "<a href=\"https://colab.research.google.com/github/ruanmatheusz/Job-Rotation---S-o-Paulo/blob/master/inversao_string.ipynb\" target=\"_parent\"><img src=\"https://colab.research.google.com/assets/colab-badge.svg\" alt=\"Open In Colab\"/></a>"
      ]
    },
    {
      "cell_type": "code",
      "execution_count": 18,
      "metadata": {
        "colab": {
          "base_uri": "https://localhost:8080/"
        },
        "id": "ym2_C4B-gk3x",
        "outputId": "152e0272-fa8b-4744-a0de-697ec2aeb782"
      },
      "outputs": [
        {
          "output_type": "stream",
          "name": "stdout",
          "text": [
            "Digite sua palavra: feijao\n",
            "Sua palavra é: feijao\n",
            "Sua palavra invertida fica: oajief\n"
          ]
        }
      ],
      "source": [
        "def reverte_string():\n",
        " entrada = input(str('Digite sua palavra: '))\n",
        " print('Sua palavra é: ' + entrada)\n",
        " print('Sua palavra invertida fica: ' + entrada[::-1])\n",
        "\n",
        "reverte_string()"
      ]
    }
  ]
}