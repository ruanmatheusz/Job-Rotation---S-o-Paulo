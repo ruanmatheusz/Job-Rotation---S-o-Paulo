{
  "nbformat": 4,
  "nbformat_minor": 0,
  "metadata": {
    "colab": {
      "provenance": [],
      "authorship_tag": "ABX9TyPfuM2l49LC1cV3QRu1cLvh",
      "include_colab_link": true
    },
    "kernelspec": {
      "name": "python3",
      "display_name": "Python 3"
    },
    "language_info": {
      "name": "python"
    }
  },
  "cells": [
    {
      "cell_type": "markdown",
      "metadata": {
        "id": "view-in-github",
        "colab_type": "text"
      },
      "source": [
        "<a href=\"https://colab.research.google.com/github/ruanmatheusz/Job-Rotation---S-o-Paulo/blob/master/Vetor_de_Faturamento_Di%C3%A1rio.ipynb\" target=\"_parent\"><img src=\"https://colab.research.google.com/assets/colab-badge.svg\" alt=\"Open In Colab\"/></a>"
      ]
    },
    {
      "cell_type": "code",
      "execution_count": 44,
      "metadata": {
        "colab": {
          "base_uri": "https://localhost:8080/"
        },
        "id": "JrXVPeQpWbaF",
        "outputId": "54d8a93b-572f-4f0c-9be1-46710981f864"
      },
      "outputs": [
        {
          "output_type": "stream",
          "name": "stdout",
          "text": [
            "O menor valor foi de: R$ 5\n",
            "O maior valor foi de: R$ 496\n",
            "O número de dias em que o valor de faturamento diário foi superior à média mensal foi de: 15 dias.\n"
          ]
        }
      ],
      "source": [
        "import json\n",
        "import pandas as pd\n",
        "with open('dadosjaneiro.json', 'r') as json_file:\n",
        "  dados = json.load(json_file)\n",
        "\n",
        "df = pd.DataFrame(dados)\n",
        "min_value = df['valoresderendimento'].min()\n",
        "max_value = df['valoresderendimento'].max()\n",
        "media_value = df['valoresderendimento'].mean()\n",
        "contador_dias = 0\n",
        "for dados in df['valoresderendimento']:\n",
        "  if dados > media_value:\n",
        "    contador_dias += 1\n",
        "print('O menor valor foi de: R$ ' + str(min_value)) \n",
        "print('O maior valor foi de: R$ ' + str(max_value)) \n",
        "print('O número de dias em que o valor de faturamento diário foi superior à média mensal foi de: ' + str(contador_dias) + ' dias.' )\n",
        "\n",
        "\n"
      ]
    }
  ]
}