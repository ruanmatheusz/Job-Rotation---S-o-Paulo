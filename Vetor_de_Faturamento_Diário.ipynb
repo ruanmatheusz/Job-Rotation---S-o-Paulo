{
  "nbformat": 4,
  "nbformat_minor": 0,
  "metadata": {
    "colab": {
      "provenance": [],
      "authorship_tag": "ABX9TyNl6AzfZsbBg44UprUaszDe",
      "include_colab_link": true
    },
    "kernelspec": {
      "name": "python3",
      "display_name": "Python 3"
    },
    "language_info": {
      "name": "python"
    }
  },
  "cells": [
    {
      "cell_type": "markdown",
      "metadata": {
        "id": "view-in-github",
        "colab_type": "text"
      },
      "source": [
        "<a href=\"https://colab.research.google.com/github/ruanmatheusz/Job-Rotation-Sao-Paulo/blob/master/Vetor_de_Faturamento_Di%C3%A1rio.ipynb\" target=\"_parent\"><img src=\"https://colab.research.google.com/assets/colab-badge.svg\" alt=\"Open In Colab\"/></a>"
      ]
    },
    {
      "cell_type": "code",
      "execution_count": 11,
      "metadata": {
        "colab": {
          "base_uri": "https://localhost:8080/"
        },
        "id": "JrXVPeQpWbaF",
        "outputId": "967855b4-6dca-48a7-9b5b-300d97e246bb"
      },
      "outputs": [
        {
          "output_type": "stream",
          "name": "stdout",
          "text": [
            "O menor valor foi de: R$ 373.7838\n",
            "O maior valor foi de: R$ 48924.2448\n",
            "O número de dias em que o valor de faturamento diário foi superior à média mensal foi de: 12 dias.\n"
          ]
        }
      ],
      "source": [
        "import json\n",
        "import pandas as pd\n",
        "with open('dados.json', 'r') as json_file:\n",
        "  dados = json.load(json_file)\n",
        "\n",
        "df = pd.DataFrame(dados)\n",
        "min_value = []\n",
        "\n",
        "for dados in df['valor']:\n",
        "  if dados > 0 :\n",
        "    min_value.append(dados)\n",
        "\n",
        "ds = pd.DataFrame(min_value)\n",
        "\n",
        "minimal_value = ds[0].min()\n",
        "max_value = df['valor'].max()\n",
        "media_value = df['valor'].mean()\n",
        "\n",
        "contador_dias = 0\n",
        "\n",
        "for dados in df['valor']:\n",
        "  if dados > media_value:\n",
        "    contador_dias += 1\n",
        "print('O menor valor foi de: R$ ' + str(minimal_value)) \n",
        "print('O maior valor foi de: R$ ' + str(max_value)) \n",
        "print('O número de dias em que o valor de faturamento diário foi superior à média mensal foi de: ' + str(contador_dias) + ' dias.' )\n",
        "\n",
        "\n"
      ]
    }
  ]
}